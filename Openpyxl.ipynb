{
 "cells": [
  {
   "cell_type": "code",
   "execution_count": 11,
   "metadata": {},
   "outputs": [],
   "source": [
    "from pathlib import Path \n",
    "from openpyxl import load_workbook, Workbook "
   ]
  },
  {
   "cell_type": "code",
   "execution_count": 17,
   "metadata": {},
   "outputs": [],
   "source": [
    "SOURCE_DIR = \"Report\"\n",
    "excel_files = list(Path(SOURCE_DIR).glob(\"*.xlsx\"))"
   ]
  },
  {
   "cell_type": "code",
   "execution_count": 15,
   "metadata": {},
   "outputs": [],
   "source": [
    "values_excel_files = {}\n",
    "for excel_file in excel_files:\n",
    "    wb = load_workbook(filename=excel_file, data_only= True)\n",
    "    ws = wb[\"Client Information\"]\n",
    "    ws1 = wb[\"Question Category 1\"]\n",
    "    ws2 = wb[\"Question Category 2\"]\n",
    "    ws3 = wb[\"Finance\"]\n",
    "    rngs = [ws[\"C3\":\"C4\"], ws[\"O2\":\"O3\"], ws1[\"D3\":\"D4\"], ws2[\"D3\":\"D4\"], ws3[\"D8\":\"D9\"]]\n",
    "    client = str(ws[\"C2\"].value).strip()\n",
    "    rng_values = []\n",
    "    for rng in rngs:\n",
    "        for row in rng:\n",
    "            for cell in row:\n",
    "                rng_values.append(cell.value)\n",
    "    values_excel_files[client] = rng_values"
   ]
  },
  {
   "cell_type": "code",
   "execution_count": 16,
   "metadata": {},
   "outputs": [],
   "source": [
    "master = load_workbook(filename=\"Master.xlsx\")\n",
    "for ws in master.worksheets:\n",
    "    for row in ws.iter_rows(min_row=3, max_col=2, max_row=ws.max_row):  \n",
    "        for cell in row:\n",
    "            if cell.value in values_excel_files:\n",
    "                for i, value in enumerate(values_excel_files[cell.value]):\n",
    "                    cell.offset(row=0, column=i+1).value = value\n",
    "master.save('Master_Updated.xlsx')"
   ]
  },
  {
   "cell_type": "code",
   "execution_count": null,
   "metadata": {},
   "outputs": [],
   "source": []
  }
 ],
 "metadata": {
  "kernelspec": {
   "display_name": "py3pyxl",
   "language": "python",
   "name": "python3"
  },
  "language_info": {
   "codemirror_mode": {
    "name": "ipython",
    "version": 3
   },
   "file_extension": ".py",
   "mimetype": "text/x-python",
   "name": "python",
   "nbconvert_exporter": "python",
   "pygments_lexer": "ipython3",
   "version": "3.12.3"
  }
 },
 "nbformat": 4,
 "nbformat_minor": 2
}
